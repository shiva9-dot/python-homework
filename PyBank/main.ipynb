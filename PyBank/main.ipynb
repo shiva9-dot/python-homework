{
 "cells": [
  {
   "cell_type": "code",
   "execution_count": 6,
   "id": "d30c3fcf-80a9-4be4-8745-056eed13f15a",
   "metadata": {
    "tags": []
   },
   "outputs": [],
   "source": [
    "import csv\n",
    "import sys\n",
    "import operator"
   ]
  },
  {
   "cell_type": "code",
   "execution_count": 13,
   "id": "088f1115-24a0-4fde-bde9-fb3453d0ebc4",
   "metadata": {
    "tags": []
   },
   "outputs": [],
   "source": [
    "data_list = []\n",
    "with open(\"./budget_data.csv\", 'r') as f:   #reading the budget_data.csv file and adding all the data into an empty list\n",
    "    csvreader = csv.reader(f)\n",
    "    for row in csvreader:\n",
    "        data_list.append(row)\n",
    "\n",
    "#TOTAL MONTHS\n",
    "total_months = len(data_list)-1             #length of list to find total months in the dataset, subtracting 1 to remove the header row\n",
    "\n",
    "#NET TOTAL\n",
    "data_list.pop(0)                                         #deleting 1st row (both the headers) from the data set\n",
    "net_total_list = []\n",
    "dates = []\n",
    "for i in data_list:\n",
    "    net_total_list.append(int(i[1]))                     #appending all the integer values of profits/losses (column 2) to an empty list\n",
    "    dates.append(i[0])                                   #appending all the dates (column 1) to an empty list\n",
    "dates.pop(0)                    #deleting 2nd row with 1st date from csv file as this should not be considered while finding differences\n",
    "net_total = sum(net_total_list)                          #finding sum of all profits/losses\n",
    "\n",
    "#GREATEST INCREASE and DECREASE IN PROFITS\n",
    "difference = []\n",
    "for j in range(1, len(net_total_list)):\n",
    "    diff = net_total_list[j] - net_total_list[j-1]                             #calculating difference between profits/losses for 2 dates\n",
    "    difference.append(diff)                                                    #appending all the differences to an empty list\n",
    "\n",
    "dict_diff = {dates[d]: difference[d] for d in range(len(dates))}                 #creating a dictionary with all dates as keys \n",
    "                                                                                 #and all differences calculated as values\n",
    "greatest_profit_increase = max(dict_diff.items(), key=operator.itemgetter(1))[0]    #finding maximum value\n",
    "greatest_profit_decrease = min(dict_diff.items(), key=operator.itemgetter(1))[0]    #findind minimum value\n",
    "\n",
    "#AVERAGE CHANGE\n",
    "sum_difference = sum(difference)\n",
    "avg_change = sum_difference / (len(difference))\n",
    "avg_change = round(average_change, 2)\n",
    "\n",
    "#RESULTS (following code to display output in a text file)\n",
    "original = sys.stdout\n",
    "with open(\"Output.txt\", 'w') as f:\n",
    "    sys.stdout = f\n",
    "    print(\"Financial Analysis\")\n",
    "    print(\"----------------------------\")\n",
    "    print(\"Total Months:\", total_months)\n",
    "    print(\"Total: $\",net_total, sep='')\n",
    "    print(\"Average Change: $\",avg_change, sep='')\n",
    "    print(\"Greatest Increase in Profits:\", greatest_profit_increase, \"($\"+ str(dict_diff[greatest_profit_increase])+ \")\")\n",
    "    print(\"Greatest Decrease in Profits:\", greatest_profit_decrease, \"($\"+ str(dict_diff[greatest_profit_decrease])+ \")\")\n",
    "    sys.stdout = original"
   ]
  }
 ],
 "metadata": {
  "kernelspec": {
   "display_name": "Python 3 (ipykernel)",
   "language": "python",
   "name": "python3"
  },
  "language_info": {
   "codemirror_mode": {
    "name": "ipython",
    "version": 3
   },
   "file_extension": ".py",
   "mimetype": "text/x-python",
   "name": "python",
   "nbconvert_exporter": "python",
   "pygments_lexer": "ipython3",
   "version": "3.10.12"
  }
 },
 "nbformat": 4,
 "nbformat_minor": 5
}
